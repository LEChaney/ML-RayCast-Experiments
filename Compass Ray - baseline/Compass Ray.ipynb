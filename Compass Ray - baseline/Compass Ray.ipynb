{
 "cells": [
  {
   "cell_type": "code",
   "execution_count": 1,
   "metadata": {},
   "outputs": [
    {
     "name": "stderr",
     "output_type": "stream",
     "text": [
      "Using TensorFlow backend.\n"
     ]
    }
   ],
   "source": [
    "from keras.preprocessing.image import load_img\n",
    "import matplotlib.pyplot as plt"
   ]
  },
  {
   "cell_type": "code",
   "execution_count": 2,
   "metadata": {},
   "outputs": [],
   "source": [
    "# This is a function I stole from somewhere to draw a line.\n",
    "# I also repurposed it for the ray casting.\n",
    "def get_line(start, end):\n",
    "    \"\"\"Bresenham's Line Algorithm\n",
    "    Produces a list of tuples from start and end\n",
    " \n",
    "    >>> points1 = get_line((0, 0), (3, 4))\n",
    "    >>> points2 = get_line((3, 4), (0, 0))\n",
    "    >>> assert(set(points1) == set(points2))\n",
    "    >>> print points1\n",
    "    [(0, 0), (1, 1), (1, 2), (2, 3), (3, 4)]\n",
    "    >>> print points2\n",
    "    [(3, 4), (2, 3), (1, 2), (1, 1), (0, 0)]\n",
    "    \"\"\"  \n",
    "    # Setup initial conditions\n",
    "    x1, y1 = start\n",
    "    x2, y2 = end\n",
    "    dx = x2 - x1\n",
    "    dy = y2 - y1\n",
    " \n",
    "    # Determine how steep the line is\n",
    "    is_steep = abs(dy) > abs(dx)\n",
    " \n",
    "    # Rotate line\n",
    "    if is_steep:\n",
    "        x1, y1 = y1, x1\n",
    "        x2, y2 = y2, x2\n",
    " \n",
    "    # Swap start and end points if necessary and store swap state\n",
    "    swapped = False\n",
    "    if x1 > x2:\n",
    "        x1, x2 = x2, x1\n",
    "        y1, y2 = y2, y1\n",
    "        swapped = True\n",
    " \n",
    "    # Recalculate differentials\n",
    "    dx = x2 - x1\n",
    "    dy = y2 - y1\n",
    " \n",
    "    # Calculate error\n",
    "    error = int(dx / 2.0)\n",
    "    ystep = 1 if y1 < y2 else -1\n",
    " \n",
    "    # Iterate over bounding box generating points between start and end\n",
    "    y = y1\n",
    "    points = []\n",
    "    for x in range(x1, x2 + 1):\n",
    "        coord = (y, x) if is_steep else (x, y)\n",
    "        points.append(coord)\n",
    "        error -= abs(dy)\n",
    "        if error < 0:\n",
    "            y += ystep\n",
    "            error += dx\n",
    " \n",
    "    # Reverse the list if the coordinates were swapped\n",
    "    if swapped:\n",
    "        points.reverse()\n",
    "    return points"
   ]
  },
  {
   "cell_type": "code",
   "execution_count": 3,
   "metadata": {},
   "outputs": [
    {
     "data": {
      "image/png": "[encoded data removed]",
      "text/plain": [
       "<PIL.Image.Image image mode=RGB size=128x128 at 0x287D220DAC8>"
      ]
     },
     "execution_count": 3,
     "metadata": {},
     "output_type": "execute_result"
    }
   ],
   "source": [
    "# loads the current test map.\n",
    "# This map should probably be randomly generated, otherwise we're biasing our training a lot to this specific map layout.\n",
    "img = load_img('line trace map.png')\n",
    "img = img.resize((128, 128))\n",
    "img"
   ]
  },
  {
   "cell_type": "code",
   "execution_count": 6,
   "metadata": {},
   "outputs": [],
   "source": [
    "# Very lazy training set generation code.\n",
    "# Uses a lot of memory as it just loads all the images into a big array in memory.\n",
    "# Could be saved to file instead, then streamed in, there's probably an easy way to stream in files with Keras.\n",
    "\n",
    "import random\n",
    "import math\n",
    "import numpy as np\n",
    "\n",
    "images = []\n",
    "hit_locations = []\n",
    "headings = []\n",
    "line_length = math.sqrt(img.width ** 2 + img.height ** 2)\n",
    "compass_radius = 10\n",
    "for _ in range(100000): # Change this to reduce the number of training examples / memory load\n",
    "    placed_compass = False\n",
    "    while not placed_compass:\n",
    "        # Reset image\n",
    "        new_image = img.copy()\n",
    "        out_hit = (0, 0)\n",
    "        \n",
    "        # Get random line, long enough to span entire image\n",
    "        start = (random.randint(0, img.width - 1), random.randint(0, img.height - 1))\n",
    "        heading = 2 * math.pi * random.random()\n",
    "        end = (int(line_length * math.cos(heading) + start[0]), int(line_length * math.sin(heading) + start[1]))\n",
    "        \n",
    "        # Try paint compass and perform line trace from end\n",
    "        out_hit = start\n",
    "        line_coords = get_line(start, end)\n",
    "        for i, pixel_coord in enumerate(line_coords):\n",
    "            \n",
    "            # Retry if outside of image\n",
    "            x, y = pixel_coord\n",
    "            if x < 0 or x >= new_image.width or y < 0 or y >= new_image.height:\n",
    "                break\n",
    "                \n",
    "            # Keep track of current end of line for hit results\n",
    "            out_hit = pixel_coord\n",
    "                \n",
    "            # Retry if placed inside solid\n",
    "            if new_image.getpixel(pixel_coord) != (255, 255, 255):\n",
    "                break\n",
    "                \n",
    "            # Success if we painted all pixels without hitting a solid\n",
    "            vpixel = np.array(pixel_coord)\n",
    "            vstart = np.array(start)\n",
    "            if np.linalg.norm(vpixel - vstart) > 2 * compass_radius:\n",
    "                placed_compass = True\n",
    "                continue\n",
    "                \n",
    "            # Select pixel color for north and south poles\n",
    "            if np.linalg.norm(vpixel - vstart) < compass_radius:\n",
    "                pixel_color = (127, 127, 127)\n",
    "            else:\n",
    "                pixel_color = (255, 0, 0)\n",
    "            \n",
    "            # Place new pixel on line\n",
    "            new_image.putpixel(pixel_coord, pixel_color)\n",
    "    \n",
    "    hit_locations.append(out_hit)\n",
    "    images.append(new_image)\n",
    "    headings.append(heading)\n",
    "\n",
    "# Paint hit locations\n",
    "# for i, hit_loc in enumerate(hit_locations):\n",
    "#     images[i].putpixel(hit_loc, (0, 255, 0))"
   ]
  },
  {
   "cell_type": "code",
   "execution_count": 7,
   "metadata": {},
   "outputs": [
    {
     "data": {
      "image/png": "[encoded data removed]",
      "text/plain": [
       "<PIL.Image.Image image mode=RGB size=128x128 at 0x287D22AECC0>"
      ]
     },
     "execution_count": 7,
     "metadata": {},
     "output_type": "execute_result"
    }
   ],
   "source": [
    "# Sample with compass drawn on map (compass is currently only 1 pixel wide, may be unfair representation of a game object)\n",
    "images[7]"
   ]
  },
  {
   "cell_type": "code",
   "execution_count": 8,
   "metadata": {},
   "outputs": [],
   "source": [
    "# Test train split (Keras also makes its own train / validation split on the training data)\n",
    "TRAIN_PERCENT = 0.80\n",
    "\n",
    "split_loc = int(len(images) * TRAIN_PERCENT)\n",
    "x_train = np.array([np.array(image) for image in images[:split_loc]])\n",
    "y_train = np.array([np.array(hit_loc) for hit_loc in hit_locations[:split_loc]])\n",
    "x_test = np.array([np.array(image) for image in images[split_loc:]])\n",
    "y_test = np.array([np.array(hit_loc) for hit_loc in hit_locations[split_loc:]])\n",
    "\n",
    "x_train = x_train.astype('float32')\n",
    "x_test = x_test.astype('float32')\n",
    "x_train = x_train / 255.0\n",
    "x_test = x_test / 255.0\n",
    "\n",
    "y_train = y_train.astype('float32')\n",
    "y_test = y_test.astype('float32')\n",
    "y_train[:, 0] /= (x_train.shape[2] - 1)\n",
    "y_train[:, 1] /= (x_train.shape[1] - 1)\n",
    "y_test[:, 0] /= (x_test.shape[2] - 1)\n",
    "y_test[:, 1] /= (x_test.shape[1] - 1)"
   ]
  },
  {
   "cell_type": "code",
   "execution_count": null,
   "metadata": {},
   "outputs": [],
   "source": [
    "# TRAIN_PERCENT = 0.80\n",
    "\n",
    "# split_loc = int(len(images) * TRAIN_PERCENT)\n",
    "# x_train = np.array([np.array(image) for image in images[:split_loc]])\n",
    "# y_train = np.array([np.array(heading) for heading in headings[:split_loc]])\n",
    "# x_test = np.array([np.array(image) for image in images[split_loc:]])\n",
    "# y_test = np.array([np.array(heading) for heading in headings[split_loc:]])\n",
    "\n",
    "# x_train = x_train.astype('float32')\n",
    "# x_test = x_test.astype('float32')\n",
    "# x_train = x_train / 255.0\n",
    "# x_test = x_test / 255.0\n",
    "\n",
    "# y_train = y_train.astype('float32')\n",
    "# y_test = y_test.astype('float32')\n",
    "# y_train /= 2 * math.pi\n",
    "# y_test /= 2 * math.pi"
   ]
  },
  {
   "cell_type": "code",
   "execution_count": null,
   "metadata": {},
   "outputs": [
    {
     "name": "stdout",
     "output_type": "stream",
     "text": [
      "(80000, 128, 128, 3)\n",
      "[1. 1. 1.]\n"
     ]
    },
    {
     "data": {
      "text/plain": [
       "<matplotlib.image.AxesImage at 0x2892365b710>"
      ]
     },
     "execution_count": 10,
     "metadata": {},
     "output_type": "execute_result"
    },
    {
     "data": {
      "image/png": "[encoded data removed]",
      "text/plain": [
       "<Figure size 432x288 with 1 Axes>"
      ]
     },
     "metadata": {
      "needs_background": "light"
     },
     "output_type": "display_data"
    }
   ],
   "source": [
    "# larger view of a sample from the training set\n",
    "print(x_train.shape)\n",
    "print(x_train[0, 100, 100])\n",
    "plt.imshow(x_train[1])"
   ]
  },
  {
   "cell_type": "code",
   "execution_count": null,
   "metadata": {},
   "outputs": [
    {
     "name": "stdout",
     "output_type": "stream",
     "text": [
      "(80000, 2)\n",
      "[0.56692916 0.10236221]\n"
     ]
    }
   ],
   "source": [
    "# Sample of training labels\n",
    "print(y_train.shape)\n",
    "print(y_train[1])"
   ]
  },
  {
   "cell_type": "code",
   "execution_count": null,
   "metadata": {},
   "outputs": [
    {
     "name": "stdout",
     "output_type": "stream",
     "text": [
      "(20000, 128, 128, 3)\n",
      "(20000, 2)\n"
     ]
    }
   ],
   "source": [
    "# Checking test sets shape\n",
    "print(x_test.shape)\n",
    "print(y_test.shape)"
   ]
  },
  {
   "cell_type": "code",
   "execution_count": null,
   "metadata": {},
   "outputs": [],
   "source": [
    "import keras\n",
    "from coord import CoordinateChannel2D\n",
    "\n",
    "# Function that builds the neural network model\n",
    "def get_model(input_shape):\n",
    "    ip = keras.layers.Input(shape=input_shape)\n",
    "    x = keras.layers.Conv2D(32, (3, 3), strides=2, padding='same')(ip)\n",
    "    x = keras.layers.MaxPooling2D()(x)\n",
    "    x = keras.layers.Activation('relu')(x)\n",
    "    \n",
    "    x = keras.layers.Conv2D(32, (3, 3), strides=2, padding='same')(x)\n",
    "    x = keras.layers.MaxPooling2D()(x)\n",
    "    x = keras.layers.Activation('relu')(x)\n",
    "    \n",
    "    x = keras.layers.Flatten()(x)\n",
    "    \n",
    "    x = keras.layers.Dense(32)(x)\n",
    "    x = keras.layers.Activation('relu')(x)\n",
    "    \n",
    "    x = keras.layers.Dense(2)(x)\n",
    "#     x = keras.layers.Dense(1)(x)\n",
    "\n",
    "    model = keras.models.Model(ip, x)\n",
    "    return model"
   ]
  },
  {
   "cell_type": "code",
   "execution_count": null,
   "metadata": {},
   "outputs": [
    {
     "name": "stdout",
     "output_type": "stream",
     "text": [
      "WARNING:tensorflow:From C:\\Anaconda3\\envs\\tensorflow113\\lib\\site-packages\\tensorflow\\python\\framework\\op_def_library.py:263: colocate_with (from tensorflow.python.framework.ops) is deprecated and will be removed in a future version.\n",
      "Instructions for updating:\n",
      "Colocations handled automatically by placer.\n",
      "_________________________________________________________________\n",
      "Layer (type)                 Output Shape              Param #   \n",
      "=================================================================\n",
      "input_1 (InputLayer)         (None, 128, 128, 3)       0         \n",
      "_________________________________________________________________\n",
      "conv2d_1 (Conv2D)            (None, 64, 64, 32)        896       \n",
      "_________________________________________________________________\n",
      "max_pooling2d_1 (MaxPooling2 (None, 32, 32, 32)        0         \n",
      "_________________________________________________________________\n",
      "activation_1 (Activation)    (None, 32, 32, 32)        0         \n",
      "_________________________________________________________________\n",
      "conv2d_2 (Conv2D)            (None, 16, 16, 32)        9248      \n",
      "_________________________________________________________________\n",
      "max_pooling2d_2 (MaxPooling2 (None, 8, 8, 32)          0         \n",
      "_________________________________________________________________\n",
      "activation_2 (Activation)    (None, 8, 8, 32)          0         \n",
      "_________________________________________________________________\n",
      "flatten_1 (Flatten)          (None, 2048)              0         \n",
      "_________________________________________________________________\n",
      "dense_1 (Dense)              (None, 32)                65568     \n",
      "_________________________________________________________________\n",
      "activation_3 (Activation)    (None, 32)                0         \n",
      "_________________________________________________________________\n",
      "dense_2 (Dense)              (None, 2)                 66        \n",
      "=================================================================\n",
      "Total params: 75,778\n",
      "Trainable params: 75,778\n",
      "Non-trainable params: 0\n",
      "_________________________________________________________________\n"
     ]
    }
   ],
   "source": [
    "# Builds the model and sets up the optimizer for our problem.\n",
    "# Prints summary of model.\n",
    "\n",
    "keras.backend.clear_session()\n",
    "\n",
    "model = get_model(x_train[0].shape)\n",
    "model.compile(\n",
    "    optimizer='adam', \n",
    "    loss='mean_squared_error')\n",
    "model.summary()"
   ]
  },
  {
   "cell_type": "code",
   "execution_count": null,
   "metadata": {
    "scrolled": false
   },
   "outputs": [
    {
     "name": "stdout",
     "output_type": "stream",
     "text": [
      "WARNING:tensorflow:From C:\\Anaconda3\\envs\\tensorflow113\\lib\\site-packages\\tensorflow\\python\\ops\\math_ops.py:3066: to_int32 (from tensorflow.python.ops.math_ops) is deprecated and will be removed in a future version.\n",
      "Instructions for updating:\n",
      "Use tf.cast instead.\n",
      "Train on 53599 samples, validate on 26401 samples\n",
      "Epoch 1/100\n",
      "53599/53599 [==============================] - 24s 457us/step - loss: 0.0586 - val_loss: 0.0329\n",
      "Epoch 2/100\n",
      "53599/53599 [==============================] - 19s 363us/step - loss: 0.0383 - val_loss: 0.0156\n",
      "Epoch 3/100\n",
      "53599/53599 [==============================] - 20s 371us/step - loss: 0.0114 - val_loss: 0.0096\n",
      "Epoch 4/100\n",
      "53599/53599 [==============================] - 20s 368us/step - loss: 0.0084 - val_loss: 0.0072\n",
      "Epoch 5/100\n",
      "53599/53599 [==============================] - 19s 363us/step - loss: 0.0057 - val_loss: 0.0054\n",
      "Epoch 6/100\n",
      "53599/53599 [==============================] - 19s 362us/step - loss: 0.0050 - val_loss: 0.0047\n",
      "Epoch 7/100\n",
      "53599/53599 [==============================] - 20s 365us/step - loss: 0.0041 - val_loss: 0.0045\n",
      "Epoch 8/100\n",
      "53599/53599 [==============================] - 20s 365us/step - loss: 0.0038 - val_loss: 0.0039\n",
      "Epoch 9/100\n",
      "53599/53599 [==============================] - 20s 369us/step - loss: 0.0037 - val_loss: 0.0036\n",
      "Epoch 10/100\n",
      "53599/53599 [==============================] - 20s 369us/step - loss: 0.0030 - val_loss: 0.0034\n",
      "Epoch 11/100\n",
      "53599/53599 [==============================] - 20s 366us/step - loss: 0.0029 - val_loss: 0.0033\n",
      "Epoch 12/100\n",
      "53599/53599 [==============================] - 19s 363us/step - loss: 0.0027 - val_loss: 0.0031\n",
      "Epoch 13/100\n",
      "53599/53599 [==============================] - 19s 360us/step - loss: 0.0026 - val_loss: 0.0030\n",
      "Epoch 14/100\n",
      "53599/53599 [==============================] - 19s 362us/step - loss: 0.0025 - val_loss: 0.0029\n",
      "Epoch 15/100\n",
      "53599/53599 [==============================] - 19s 360us/step - loss: 0.0024 - val_loss: 0.0030\n",
      "Epoch 16/100\n",
      "53599/53599 [==============================] - 19s 362us/step - loss: 0.0023 - val_loss: 0.0027\n",
      "Epoch 17/100\n",
      "53599/53599 [==============================] - 19s 361us/step - loss: 0.0021 - val_loss: 0.0025\n",
      "Epoch 18/100\n",
      "53599/53599 [==============================] - 19s 360us/step - loss: 0.0020 - val_loss: 0.0026\n",
      "Epoch 19/100\n",
      "53599/53599 [==============================] - 19s 361us/step - loss: 0.0020 - val_loss: 0.0024\n",
      "Epoch 20/100\n",
      "53599/53599 [==============================] - 19s 364us/step - loss: 0.0019 - val_loss: 0.0025\n",
      "Epoch 21/100\n",
      "53599/53599 [==============================] - 20s 366us/step - loss: 0.0019 - val_loss: 0.0025\n",
      "Epoch 22/100\n",
      "53599/53599 [==============================] - 20s 378us/step - loss: 0.0018 - val_loss: 0.0022\n",
      "Epoch 23/100\n",
      "53599/53599 [==============================] - 20s 375us/step - loss: 0.0018 - val_loss: 0.0023\n",
      "Epoch 24/100\n",
      "53599/53599 [==============================] - 20s 366us/step - loss: 0.0017 - val_loss: 0.0023\n",
      "Epoch 25/100\n",
      "53599/53599 [==============================] - 20s 365us/step - loss: 0.0017 - val_loss: 0.0022\n",
      "Epoch 26/100\n",
      "53599/53599 [==============================] - 19s 362us/step - loss: 0.0017 - val_loss: 0.0022\n",
      "Epoch 27/100\n",
      "53599/53599 [==============================] - 19s 362us/step - loss: 0.0016 - val_loss: 0.0021\n",
      "Epoch 28/100\n",
      "53599/53599 [==============================] - 19s 361us/step - loss: 0.0016 - val_loss: 0.0022\n",
      "Epoch 29/100\n",
      "53599/53599 [==============================] - 20s 364us/step - loss: 0.0015 - val_loss: 0.0022\n",
      "Epoch 30/100\n",
      "53599/53599 [==============================] - 20s 365us/step - loss: 0.0015 - val_loss: 0.0021\n",
      "Epoch 31/100\n",
      "53599/53599 [==============================] - 20s 367us/step - loss: 0.0015 - val_loss: 0.0020\n",
      "Epoch 32/100\n",
      "53599/53599 [==============================] - 20s 367us/step - loss: 0.0014 - val_loss: 0.0020\n",
      "Epoch 33/100\n",
      "53599/53599 [==============================] - 20s 366us/step - loss: 0.0014 - val_loss: 0.0021\n",
      "Epoch 34/100\n",
      "53599/53599 [==============================] - 19s 361us/step - loss: 0.0014 - val_loss: 0.0020\n",
      "Epoch 35/100\n",
      "53599/53599 [==============================] - 19s 360us/step - loss: 0.0014 - val_loss: 0.0019\n",
      "Epoch 36/100\n",
      "53599/53599 [==============================] - 19s 361us/step - loss: 0.0014 - val_loss: 0.0019\n",
      "Epoch 37/100\n",
      "53599/53599 [==============================] - 20s 365us/step - loss: 0.0014 - val_loss: 0.0020\n",
      "Epoch 38/100\n",
      "53599/53599 [==============================] - 20s 365us/step - loss: 0.0013 - val_loss: 0.0020\n",
      "Epoch 39/100\n",
      "53599/53599 [==============================] - 20s 367us/step - loss: 0.0013 - val_loss: 0.0020\n",
      "Epoch 40/100\n",
      "53408/53599 [============================>.] - ETA: 0s - loss: 0.0013"
     ]
    }
   ],
   "source": [
    "# Runs the training for 100 epochs (complete runs over training set) or until early stopping criteria is met\n",
    "\n",
    "from keras.callbacks import EarlyStopping\n",
    "\n",
    "es = EarlyStopping(monitor='val_loss', mode='min', verbose=1, patience=10)\n",
    "history = model.fit(x_train, y_train, validation_split=0.33, epochs=100, callbacks=[es])"
   ]
  },
  {
   "cell_type": "code",
   "execution_count": null,
   "metadata": {},
   "outputs": [],
   "source": [
    "# summarize history for accuracy\n",
    "# plt.plot(history.history['acc'])\n",
    "# plt.plot(history.history['val_acc'])\n",
    "# plt.title('model accuracy')\n",
    "# plt.ylabel('accuracy')\n",
    "# plt.xlabel('epoch')\n",
    "# plt.legend(['train', 'test'], loc='upper left')\n",
    "# plt.show()\n",
    "\n",
    "# Summarize performance\n",
    "plt.plot(history.history['loss'])\n",
    "plt.plot(history.history['val_loss'])\n",
    "plt.title('model loss')\n",
    "plt.ylabel('loss')\n",
    "plt.xlabel('epoch')\n",
    "plt.legend(['train', 'test'], loc='upper left')\n",
    "plt.show()"
   ]
  },
  {
   "cell_type": "code",
   "execution_count": null,
   "metadata": {},
   "outputs": [],
   "source": [
    "# Run final evaluation on our hold out test set\n",
    "model.evaluate(x_test, y_test)"
   ]
  },
  {
   "cell_type": "code",
   "execution_count": null,
   "metadata": {},
   "outputs": [],
   "source": [
    "y_hat = model.predict(x_test)\n",
    "print(y_hat)"
   ]
  },
  {
   "cell_type": "code",
   "execution_count": null,
   "metadata": {},
   "outputs": [],
   "source": [
    "# import random\n",
    "\n",
    "# rand_im_idx = random.randint(0, x_test.shape[0] - 1)\n",
    "# test_img = x_test[rand_im_idx]\n",
    "# print(\"True Value: {}\".format(y_test[rand_im_idx] * 360))\n",
    "# print(\"Prediction: {}\".format(y_hat[rand_im_idx] * 360))\n",
    "# print(\"Error: {}\".format((y_hat[rand_im_idx] - y_test[rand_im_idx]) * 360))\n",
    "# print(\"Avg Error: {}\".format(np.mean(np.abs(y_test - y_hat.flatten())) * 360))\n",
    "# plt.imshow(test_img)"
   ]
  },
  {
   "cell_type": "code",
   "execution_count": null,
   "metadata": {},
   "outputs": [],
   "source": [
    "# Displays random result from the test set\n",
    "\n",
    "import random\n",
    "\n",
    "rand_im_idx = random.randint(0, x_test.shape[0] - 1)\n",
    "test_img = x_test[rand_im_idx]\n",
    "print(y_hat[rand_im_idx])\n",
    "hit_x = y_hat[rand_im_idx][0]\n",
    "hit_x *= test_img.shape[1] - 1 # [0.0..1.0] x Image width\n",
    "hit_x = int(round(hit_x))\n",
    "hit_y = y_hat[rand_im_idx][1]\n",
    "hit_y *= test_img.shape[0] - 1 # [0.0..1.0] x Image height\n",
    "hit_y = int(round(hit_y))\n",
    "print((hit_x, hit_y))\n",
    "t_hit_x = y_test[rand_im_idx][0]\n",
    "t_hit_x *= test_img.shape[1] - 1 # [0.0..1.0] x Image width\n",
    "t_hit_x = int(round(t_hit_x))\n",
    "t_hit_y = y_test[rand_im_idx][1]\n",
    "t_hit_y *= test_img.shape[0] - 1 # [0.0..1.0] x Image height\n",
    "t_hit_y = int(round(t_hit_y))\n",
    "print((t_hit_x, t_hit_y))\n",
    "test_img[hit_y, hit_x] = (0., 1., 0)\n",
    "test_img[t_hit_y, t_hit_x] = (1., 0., 0.)\n",
    "plt.imshow(test_img)"
   ]
  },
  {
   "cell_type": "code",
   "execution_count": null,
   "metadata": {},
   "outputs": [],
   "source": []
  },
  {
   "cell_type": "code",
   "execution_count": null,
   "metadata": {},
   "outputs": [],
   "source": []
  }
 ],
 "metadata": {
  "kernelspec": {
   "display_name": "Python [conda env:tensorflow113]",
   "language": "python",
   "name": "conda-env-tensorflow113-py"
  },
  "language_info": {
   "codemirror_mode": {
    "name": "ipython",
    "version": 3
   },
   "file_extension": ".py",
   "mimetype": "text/x-python",
   "name": "python",
   "nbconvert_exporter": "python",
   "pygments_lexer": "ipython3",
   "version": "3.7.2"
  }
 },
 "nbformat": 4,
 "nbformat_minor": 2
}
