{
  "nbformat": 4,
  "nbformat_minor": 0,
  "metadata": {
    "colab": {
      "name": "Copy of Image_Generator.ipynb",
      "provenance": [],
      "collapsed_sections": [],
      "include_colab_link": true
    },
    "kernelspec": {
      "name": "python3",
      "display_name": "Python 3"
    }
  },
  "cells": [
    {
      "cell_type": "markdown",
      "metadata": {
        "id": "view-in-github",
        "colab_type": "text"
      },
      "source": [
        "<a href=\"https://colab.research.google.com/github/LEChaney/ML-RayCast-Experiments/blob/master/Image_GeneratorV3.ipynb\" target=\"_parent\"><img src=\"https://colab.research.google.com/assets/colab-badge.svg\" alt=\"Open In Colab\"/></a>"
      ]
    },
    {
      "cell_type": "code",
      "metadata": {
        "id": "jw1arH2vxVXK",
        "colab_type": "code",
        "outputId": "5c21feea-dd26-4338-c891-5a2a5538eb34",
        "colab": {
          "base_uri": "https://localhost:8080/",
          "height": 187
        }
      },
      "source": [
        "!git clone https://github.com/LEChaney/ML-RayCast-Experiments\n",
        "%cd ML-RayCast-Experiments\n",
        "%pwd"
      ],
      "execution_count": 1,
      "outputs": [
        {
          "output_type": "stream",
          "text": [
            "Cloning into 'ML-RayCast-Experiments'...\n",
            "remote: Enumerating objects: 67, done.\u001b[K\n",
            "remote: Counting objects: 100% (67/67), done.\u001b[K\n",
            "remote: Compressing objects: 100% (63/63), done.\u001b[K\n",
            "remote: Total 273 (delta 27), reused 2 (delta 0), pack-reused 206\u001b[K\n",
            "Receiving objects: 100% (273/273), 44.85 MiB | 27.71 MiB/s, done.\n",
            "Resolving deltas: 100% (135/135), done.\n",
            "/content/ML-RayCast-Experiments\n"
          ],
          "name": "stdout"
        },
        {
          "output_type": "execute_result",
          "data": {
            "text/plain": [
              "'/content/ML-RayCast-Experiments'"
            ]
          },
          "metadata": {
            "tags": []
          },
          "execution_count": 1
        }
      ]
    },
    {
      "cell_type": "code",
      "metadata": {
        "id": "18ct-FwsPHaw",
        "colab_type": "code",
        "colab": {}
      },
      "source": [
        "import os\n",
        "import pygame\n",
        "os.environ['SDL_VIDEODRIVER']='dummy'\n",
        "file_directory = os.getcwd()\n",
        "os.chdir(\"/content/ML-RayCast-Experiments/Keras-FlappyBird-master/Keras-FlappyBird-master\")\n",
        "print(os.getcwd())"
      ],
      "execution_count": 0,
      "outputs": []
    },
    {
      "cell_type": "code",
      "metadata": {
        "id": "iZ6tnEnBwSdM",
        "colab_type": "code",
        "outputId": "eb4ba311-49a9-4636-f015-25abb4b5e6f8",
        "colab": {
          "base_uri": "https://localhost:8080/",
          "height": 1000
        }
      },
      "source": [
        "import cv2\n",
        "import numpy as np\n",
        "'''import numpy as np\n",
        "import sys\n",
        "import random\n",
        "import pygame\n",
        "import flappy_bird_utils\n",
        "import pygame.surfarray as surfarray\n",
        "from pygame.locals import *\n",
        "from itertools import cycle'''\n",
        "\n",
        "SCREENWIDTH  = 288\n",
        "SCREENHEIGHT = 512\n",
        "def Image_Generator(filepath):\n",
        "\n",
        "    file = open(filepath,\"r\")\n",
        "    running = True\n",
        "    while running:\n",
        "        current = file.readline()\n",
        "        if file.readline() == \"\":\n",
        "            break;\n",
        "        data_list = current.split(\" \")\n",
        "        data_list.pop()\n",
        "        \n",
        "        if (len(data_list) < 16):\n",
        "            loop_times = 16 - len(data_list)\n",
        "            counter = 0\n",
        "            while counter < loop_times:\n",
        "                data_list.append(None)\n",
        "                counter += 1\n",
        "        #print(data_list)\n",
        "        #data_list = list(map(int, data_list))\n",
        "        bird_index = int(data_list[3])\n",
        "        upper_left_x = int(int(data_list[4]) + SCREENWIDTH /2)\n",
        "        upper_left_y = int(int(data_list[5]) + SCREENHEIGHT /2)\n",
        "        '''CaseNo = data_list[0]\n",
        "        bird_x = data_list[1] + SCREENWIDTH * 2\n",
        "        bird_y = data_list[2] + SCREENHEIGHT * 2\n",
        "        \n",
        "\n",
        "        down_left_x = data_list[6] + SCREENWIDTH * 2\n",
        "        down_left_y = data_list[7] + SCREENHEIGHT * 2\n",
        "        upper_middle_x = data_list[8] + SCREENWIDTH * 2\n",
        "        upper_middle_y = data_list[9] + SCREENHEIGHT * 2\n",
        "        down_middle_x = data_list[10] + SCREENWIDTH * 2\n",
        "        down_middle_y = data_list[11] + SCREENHEIGHT * 2\n",
        "        upper_right_x = data_list[12] + SCREENWIDTH * 2\n",
        "        upper_right_y = data_list[13] + SCREENHEIGHT * 2\n",
        "        down_right_x = data_list[14] + SCREENWIDTH * 2\n",
        "        down_right_y = data_list[15] + SCREENHEIGHT * 2'''\n",
        "        pipe_green = cv2.imread(\"Keras-FlappyBird-master/Keras-FlappyBird-master/assets/sprites/pipe-green.png\") #numpy array\n",
        "        background = cv2.imread(\"Keras-FlappyBird-master/Keras-FlappyBird-master/assets/sprites/background-black.png\")\n",
        "        bird_down = cv2.imread(\"Keras-FlappyBird-master/Keras-FlappyBird-master/assets/sprites/redbird-downflap.png\")\n",
        "        bird_mid = cv2.imread(\"Keras-FlappyBird-master/Keras-FlappyBird-master/assets/sprites/redbird-midflap.png\")\n",
        "        bird_up = cv2.imread(\"Keras-FlappyBird-master/Keras-FlappyBird-master/assets/sprites/redbird-upflap.png\")\n",
        "        #bird_download = cv2.imread(\"Keras-FlappyBird-master/Keras-FlappyBird-master/assets/sprites/redbird-downflap.png\")\n",
        "        \n",
        "        print(\"pipe_green.shape: \",pipe_green.shape)\n",
        "        print()\n",
        "        print(\"upper_left_x: \", upper_left_x)\n",
        "        print()\n",
        "        print(\"bird_down.shape[0]: \",bird_down.shape[0])\n",
        "        print()\n",
        "        print(\"upper_left_y: \", upper_left_y)\n",
        "        print()\n",
        "        print(\"bird_down.shape[1]: \", bird_down.shape[1])\n",
        "        print(\"background.shape: \", background.shape)\n",
        "        \n",
        "        print(\"bird_down: \", bird_down)\n",
        "        #background[x:pip.shape[1]e_green[0]]\n",
        "        reverse_pipe = rotate(\"Keras-FlappyBird-master/Keras-FlappyBird-master/assets/sprites/pipe-green.png\")\n",
        "        #plt.imshow(pipe_green)\n",
        "        #plt.show()\n",
        "        running = False\n",
        "        if bird_index == 0:\n",
        "          background[upper_left_x:bird_down.shape[0], upper_left_y:bird_down.shape[1], :] = pipe_green\n",
        "          plt.imshow(background)\n",
        "          plt.show()\n",
        "        #print(type(pipe_green))\n",
        "        elif bird_index == 1:\n",
        "          background[upper_left_x:bird_mid.shape[0], upper_left_y:bird_mid.shape[1], :] = pipe_green\n",
        "          plt.imshow(background)\n",
        "          plt.show()\n",
        "        else:\n",
        "          background[upper_left_x:bird_up.shape[0], upper_left_x:bird_up.shape[1], :] = pipe_green\n",
        "          plt.imshow(background)\n",
        "          plt.show()  \n",
        "\n",
        "          \n",
        "    #print(\"bird_down: \", bird_down)      \n",
        "    file.close()\n",
        "      \n",
        "\n",
        "    \n",
        "\n",
        "'''def csv_image_generator(inputPath, bs, lb, mode=\"train\", aug=None):\n",
        "\t# open the CSV file for reading\n",
        "\tf = open(inputPath, \"r\")\n",
        "\n",
        "\t# loop indefinitely\n",
        "\twhile True:\n",
        "\t\t# initialize our batches of images and labels\n",
        "\t\timages = []\n",
        "\t\tlabels = []\n",
        "\n",
        "\t\t# keep looping until we reach our batch size\n",
        "\t\twhile len(images) < bs:\n",
        "\t\t\t# attempt to read the next line of the CSV file\n",
        "\t\t\tline = f.readline()\n",
        "\n",
        "\t\t\t# check to see if the line is empty, indicating we have\n",
        "\t\t\t# reached the end of the file\n",
        "\t\t\tif line == \"\":\n",
        "\t\t\t\t# reset the file pointer to the beginning of the file\n",
        "\t\t\t\t# and re-read the line\n",
        "\t\t\t\tf.seek(0)\n",
        "\t\t\t\tline = f.readline()\n",
        "\n",
        "\t\t\t\t# if we are evaluating we should now break from our\n",
        "\t\t\t\t# loop to ensure we don't continue to fill up the\n",
        "\t\t\t\t# batch from samples at the beginning of the file\n",
        "\t\t\t\tif mode == \"eval\":\n",
        "\t\t\t\t\tbreak\n",
        "\n",
        "\t\t\t# extract the label and construct the image\n",
        "\t\t\tline = line.strip().split(\",\")\n",
        "\t\t\tlabel = line[0]\n",
        "\t\t\timage = np.array([int(x) for x in line[1:]], dtype=\"uint8\")\n",
        "\t\t\timage = image.reshape((64, 64, 3))\n",
        "\n",
        "\t\t\t# update our corresponding batches lists\n",
        "\t\t\timages.append(image)\n",
        "\t\t\tlabels.append(label)\n",
        "\n",
        "\t\t# one-hot encode the labels\n",
        "\t\tlabels = lb.transform(np.array(labels))\n",
        "\n",
        "\t\t# if the data augmentation object is not None, apply it\n",
        "\t\tif aug is not None:\n",
        "\t\t\t(images, labels) = next(aug.flow(np.array(images),\n",
        "\t\t\t\tlabels, batch_size=bs))\n",
        "\n",
        "\t\t# yield the batch to the calling function\n",
        "\t\tyield (np.array(images), labels)'''\n",
        "\n",
        "\n",
        "'''1. the number of case\n",
        "2. the x of bird\n",
        "3. the y of bird\n",
        "4. the index of bird\n",
        "5. the x of pipe1(upper left)\n",
        "6. the y of pipe1(upper left)\n",
        "7. the x of pipe2(down left)\n",
        "8. the y of pipe2(down left)\n",
        "9. the x of pipe3(upper middle)\n",
        "10. the y of pipe3(upper middle)\n",
        "11. the x of pipe4(down middle)\n",
        "12. the y of pipe4(down middle)\n",
        "13. the x of pipe5(upper right)\n",
        "14. the y of pipe5(upper right)\n",
        "15. the x of pipe6(down right)\n",
        "16. the y of pipe6(down right)'''\n",
        "\n",
        "file= \"data.txt\" #file path or a file in the current folder\n",
        "Image_Generator(file)\n"
      ],
      "execution_count": 0,
      "outputs": [
        {
          "output_type": "stream",
          "text": [
            "pipe_green.shape:  (320, 52, 3)\n",
            "\n",
            "upper_left_x:  428\n",
            "\n",
            "bird_down.shape[0]:  24\n",
            "\n",
            "upper_left_y:  76\n",
            "\n",
            "bird_down.shape[1]:  34\n",
            "background.shape:  (512, 288, 3)\n",
            "bird_down:  [[[ 0  0  0]\n",
            "  [ 0  0  0]\n",
            "  [ 0  0  0]\n",
            "  ...\n",
            "  [ 0  0  0]\n",
            "  [ 0  0  0]\n",
            "  [ 0  0  0]]\n",
            "\n",
            " [[ 0  0  0]\n",
            "  [ 0  0  0]\n",
            "  [ 0  0  0]\n",
            "  ...\n",
            "  [ 0  0  0]\n",
            "  [ 0  0  0]\n",
            "  [ 0  0  0]]\n",
            "\n",
            " [[ 0  0  0]\n",
            "  [ 0  0  0]\n",
            "  [ 0  0  0]\n",
            "  ...\n",
            "  [ 0  0  0]\n",
            "  [ 0  0  0]\n",
            "  [ 0  0  0]]\n",
            "\n",
            " ...\n",
            "\n",
            " [[ 0  0  0]\n",
            "  [ 0  0  0]\n",
            "  [70 56 83]\n",
            "  ...\n",
            "  [ 0  0  0]\n",
            "  [ 0  0  0]\n",
            "  [ 0  0  0]]\n",
            "\n",
            " [[ 0  0  0]\n",
            "  [ 0  0  0]\n",
            "  [ 0  0  0]\n",
            "  ...\n",
            "  [ 0  0  0]\n",
            "  [ 0  0  0]\n",
            "  [ 0  0  0]]\n",
            "\n",
            " [[ 0  0  0]\n",
            "  [ 0  0  0]\n",
            "  [ 0  0  0]\n",
            "  ...\n",
            "  [ 0  0  0]\n",
            "  [ 0  0  0]\n",
            "  [ 0  0  0]]]\n"
          ],
          "name": "stdout"
        },
        {
          "output_type": "error",
          "ename": "ValueError",
          "evalue": "ignored",
          "traceback": [
            "\u001b[0;31m---------------------------------------------------------------------------\u001b[0m",
            "\u001b[0;31mValueError\u001b[0m                                Traceback (most recent call last)",
            "\u001b[0;32m<ipython-input-83-860673a3a622>\u001b[0m in \u001b[0;36m<module>\u001b[0;34m()\u001b[0m\n\u001b[1;32m    163\u001b[0m \u001b[0;34m\u001b[0m\u001b[0m\n\u001b[1;32m    164\u001b[0m \u001b[0mfile\u001b[0m\u001b[0;34m=\u001b[0m \u001b[0;34m\"data.txt\"\u001b[0m \u001b[0;31m#file path or a file in the current folder\u001b[0m\u001b[0;34m\u001b[0m\u001b[0;34m\u001b[0m\u001b[0m\n\u001b[0;32m--> 165\u001b[0;31m \u001b[0mImage_Generator\u001b[0m\u001b[0;34m(\u001b[0m\u001b[0mfile\u001b[0m\u001b[0;34m)\u001b[0m\u001b[0;34m\u001b[0m\u001b[0;34m\u001b[0m\u001b[0m\n\u001b[0m",
            "\u001b[0;32m<ipython-input-83-860673a3a622>\u001b[0m in \u001b[0;36mImage_Generator\u001b[0;34m(filepath)\u001b[0m\n\u001b[1;32m     74\u001b[0m         \u001b[0mrunning\u001b[0m \u001b[0;34m=\u001b[0m \u001b[0;32mFalse\u001b[0m\u001b[0;34m\u001b[0m\u001b[0;34m\u001b[0m\u001b[0m\n\u001b[1;32m     75\u001b[0m         \u001b[0;32mif\u001b[0m \u001b[0mbird_index\u001b[0m \u001b[0;34m==\u001b[0m \u001b[0;36m0\u001b[0m\u001b[0;34m:\u001b[0m\u001b[0;34m\u001b[0m\u001b[0;34m\u001b[0m\u001b[0m\n\u001b[0;32m---> 76\u001b[0;31m           \u001b[0mbackground\u001b[0m\u001b[0;34m[\u001b[0m\u001b[0mupper_left_x\u001b[0m\u001b[0;34m:\u001b[0m\u001b[0mbird_down\u001b[0m\u001b[0;34m.\u001b[0m\u001b[0mshape\u001b[0m\u001b[0;34m[\u001b[0m\u001b[0;36m0\u001b[0m\u001b[0;34m]\u001b[0m\u001b[0;34m,\u001b[0m \u001b[0mupper_left_y\u001b[0m\u001b[0;34m:\u001b[0m\u001b[0mbird_down\u001b[0m\u001b[0;34m.\u001b[0m\u001b[0mshape\u001b[0m\u001b[0;34m[\u001b[0m\u001b[0;36m1\u001b[0m\u001b[0;34m]\u001b[0m\u001b[0;34m,\u001b[0m \u001b[0;34m:\u001b[0m\u001b[0;34m]\u001b[0m \u001b[0;34m=\u001b[0m \u001b[0mpipe_green\u001b[0m\u001b[0;34m\u001b[0m\u001b[0;34m\u001b[0m\u001b[0m\n\u001b[0m\u001b[1;32m     77\u001b[0m           \u001b[0mplt\u001b[0m\u001b[0;34m.\u001b[0m\u001b[0mimshow\u001b[0m\u001b[0;34m(\u001b[0m\u001b[0mbackground\u001b[0m\u001b[0;34m)\u001b[0m\u001b[0;34m\u001b[0m\u001b[0;34m\u001b[0m\u001b[0m\n\u001b[1;32m     78\u001b[0m           \u001b[0mplt\u001b[0m\u001b[0;34m.\u001b[0m\u001b[0mshow\u001b[0m\u001b[0;34m(\u001b[0m\u001b[0;34m)\u001b[0m\u001b[0;34m\u001b[0m\u001b[0;34m\u001b[0m\u001b[0m\n",
            "\u001b[0;31mValueError\u001b[0m: could not broadcast input array from shape (320,52,3) into shape (0,0,3)"
          ]
        }
      ]
    },
    {
      "cell_type": "code",
      "metadata": {
        "id": "OLprYgbcNKfz",
        "colab_type": "code",
        "colab": {}
      },
      "source": [
        ""
      ],
      "execution_count": 0,
      "outputs": []
    },
    {
      "cell_type": "code",
      "metadata": {
        "id": "g3bwG0JXNLKo",
        "colab_type": "code",
        "colab": {}
      },
      "source": [
        ""
      ],
      "execution_count": 0,
      "outputs": []
    },
    {
      "cell_type": "code",
      "metadata": {
        "id": "mf04d7Nywqo6",
        "colab_type": "code",
        "outputId": "126bed66-7c4b-4b99-f621-6d4bdeb3e773",
        "colab": {
          "base_uri": "https://localhost:8080/",
          "height": 232
        }
      },
      "source": [
        "import cv2\n",
        "import numpy as np\n",
        "\n",
        "im = cv2.imread(\"Keras-FlappyBird-master/Keras-FlappyBird-master/assets/sprites/pipe-green.png\")\n",
        "#print (im.shape[0])\n",
        "#print (im.shape[1])\n",
        "print(im.row)"
      ],
      "execution_count": 0,
      "outputs": [
        {
          "output_type": "stream",
          "text": [
            "320\n",
            "52\n"
          ],
          "name": "stdout"
        },
        {
          "output_type": "error",
          "ename": "AttributeError",
          "evalue": "ignored",
          "traceback": [
            "\u001b[0;31m---------------------------------------------------------------------------\u001b[0m",
            "\u001b[0;31mAttributeError\u001b[0m                            Traceback (most recent call last)",
            "\u001b[0;32m<ipython-input-63-6b5cdd27a42a>\u001b[0m in \u001b[0;36m<module>\u001b[0;34m()\u001b[0m\n\u001b[1;32m      5\u001b[0m \u001b[0mprint\u001b[0m \u001b[0;34m(\u001b[0m\u001b[0mim\u001b[0m\u001b[0;34m.\u001b[0m\u001b[0mshape\u001b[0m\u001b[0;34m[\u001b[0m\u001b[0;36m0\u001b[0m\u001b[0;34m]\u001b[0m\u001b[0;34m)\u001b[0m\u001b[0;34m\u001b[0m\u001b[0;34m\u001b[0m\u001b[0m\n\u001b[1;32m      6\u001b[0m \u001b[0mprint\u001b[0m \u001b[0;34m(\u001b[0m\u001b[0mim\u001b[0m\u001b[0;34m.\u001b[0m\u001b[0mshape\u001b[0m\u001b[0;34m[\u001b[0m\u001b[0;36m1\u001b[0m\u001b[0;34m]\u001b[0m\u001b[0;34m)\u001b[0m\u001b[0;34m\u001b[0m\u001b[0;34m\u001b[0m\u001b[0m\n\u001b[0;32m----> 7\u001b[0;31m \u001b[0mprint\u001b[0m\u001b[0;34m(\u001b[0m\u001b[0mim\u001b[0m\u001b[0;34m.\u001b[0m\u001b[0mrow\u001b[0m\u001b[0;34m)\u001b[0m\u001b[0;34m\u001b[0m\u001b[0;34m\u001b[0m\u001b[0m\n\u001b[0m",
            "\u001b[0;31mAttributeError\u001b[0m: 'numpy.ndarray' object has no attribute 'row'"
          ]
        }
      ]
    },
    {
      "cell_type": "code",
      "metadata": {
        "id": "oaXKLzgLx_8D",
        "colab_type": "code",
        "outputId": "1ee0f17e-64bf-4dd0-a4df-c7eab509dd05",
        "colab": {
          "base_uri": "https://localhost:8080/",
          "height": 269
        }
      },
      "source": [
        "#from PIL import Image\n",
        "from matplotlib import pyplot as plt\n",
        "#image = Image.fromarray(im,'RGB')\n",
        "#image.save(\"000.png\")\n",
        "#pyt.show()\n",
        "plt.imshow(im)\n",
        "plt.show()"
      ],
      "execution_count": 0,
      "outputs": [
        {
          "output_type": "display_data",
          "data": {
            "image/png": "[encoded data removed]",
            "text/plain": [
              "<Figure size 432x288 with 1 Axes>"
            ]
          },
          "metadata": {
            "tags": []
          }
        }
      ]
    },
    {
      "cell_type": "code",
      "metadata": {
        "id": "nR2rN0ieyYQ5",
        "colab_type": "code",
        "outputId": "e5445d4d-bf0a-4a95-c078-63d5e5df7583",
        "colab": {
          "base_uri": "https://localhost:8080/",
          "height": 850
        }
      },
      "source": [
        "from PIL import Image\n",
        "def rotate(image_path):\n",
        "    \"\"\"\n",
        "    Rotate the given photo the amount of given degreesk, show it and save it\n",
        "    @param image_path: The path to the image to edit\n",
        "    @param degrees_to_rotate: The number of degrees to rotate the image\n",
        "    @param saved_location: Path to save the cropped image\n",
        "    \"\"\"\n",
        "    degrees_to_rotate = 180\n",
        "    image_obj = Image.open(image_path)\n",
        "    rotated_image = image_obj.rotate(degrees_to_rotate)\n",
        "    rotated_image.save(\"000.png\")\n",
        "    im = cv2.imread(\"000.png\")\n",
        "    #plt.imshow(im)\n",
        "    #plt.show()\n",
        "    return im\n",
        "    \n"
      ],
      "execution_count": 0,
      "outputs": [
        {
          "output_type": "execute_result",
          "data": {
            "text/plain": [
              "array([[[255, 255, 255],\n",
              "        [255, 255, 255],\n",
              "        [ 71,  56,  84],\n",
              "        ...,\n",
              "        [ 71,  56,  84],\n",
              "        [255, 255, 255],\n",
              "        [255, 255, 255]],\n",
              "\n",
              "       [[255, 255, 255],\n",
              "        [255, 255, 255],\n",
              "        [ 71,  56,  84],\n",
              "        ...,\n",
              "        [ 71,  56,  84],\n",
              "        [255, 255, 255],\n",
              "        [255, 255, 255]],\n",
              "\n",
              "       [[255, 255, 255],\n",
              "        [255, 255, 255],\n",
              "        [ 71,  56,  84],\n",
              "        ...,\n",
              "        [ 71,  56,  84],\n",
              "        [255, 255, 255],\n",
              "        [255, 255, 255]],\n",
              "\n",
              "       ...,\n",
              "\n",
              "       [[ 71,  56,  84],\n",
              "        [ 71,  56,  84],\n",
              "        [ 38, 132,  90],\n",
              "        ...,\n",
              "        [113, 221, 192],\n",
              "        [ 71,  56,  84],\n",
              "        [ 71,  56,  84]],\n",
              "\n",
              "       [[ 71,  56,  84],\n",
              "        [ 71,  56,  84],\n",
              "        [ 71,  56,  84],\n",
              "        ...,\n",
              "        [ 71,  56,  84],\n",
              "        [ 71,  56,  84],\n",
              "        [ 71,  56,  84]],\n",
              "\n",
              "       [[ 71,  56,  84],\n",
              "        [ 71,  56,  84],\n",
              "        [ 71,  56,  84],\n",
              "        ...,\n",
              "        [ 71,  56,  84],\n",
              "        [ 71,  56,  84],\n",
              "        [ 71,  56,  84]]], dtype=uint8)"
            ]
          },
          "metadata": {
            "tags": []
          },
          "execution_count": 49
        }
      ]
    },
    {
      "cell_type": "code",
      "metadata": {
        "id": "BqsexcF4qXfE",
        "colab_type": "code",
        "outputId": "64b3123c-daae-4e50-f351-95303839970d",
        "colab": {
          "base_uri": "https://localhost:8080/",
          "height": 36
        }
      },
      "source": [
        "import os\n",
        "os.environ['SDL_VIDEODRIVER']='dummy'\n",
        "file_directory = os.getcwd()\n",
        "os.chdir(\"/content/ML-RayCast-Experiments/Keras-FlappyBird-master/Keras-FlappyBird-master\")\n",
        "print(os.getcwd())"
      ],
      "execution_count": 2,
      "outputs": [
        {
          "output_type": "stream",
          "text": [
            "/content/ML-RayCast-Experiments/Keras-FlappyBird-master/Keras-FlappyBird-master\n"
          ],
          "name": "stdout"
        }
      ]
    },
    {
      "cell_type": "code",
      "metadata": {
        "id": "iY7nyqTkNMef",
        "colab_type": "code",
        "outputId": "ad285503-4f8d-43bd-fec7-dfdf69d60bc2",
        "colab": {
          "base_uri": "https://localhost:8080/",
          "height": 56
        }
      },
      "source": [
        "import sys\n",
        "#sys.path.pop(1)\n",
        "#sys.path.insert(1,\"/content/ML-RayCast-Experiments/Keras-FlappyBird-master/Keras-FlappyBird-master/game\")\n",
        "print(sys.path)"
      ],
      "execution_count": 8,
      "outputs": [
        {
          "output_type": "stream",
          "text": [
            "['', '/content/ML-RayCast-Experiments/Keras-FlappyBird-master/Keras-FlappyBird-master/game', '/env/python', '/usr/lib/python36.zip', '/usr/lib/python3.6', '/usr/lib/python3.6/lib-dynload', '/usr/local/lib/python3.6/dist-packages', '/usr/lib/python3/dist-packages', '/usr/local/lib/python3.6/dist-packages/IPython/extensions', '/root/.ipython']\n"
          ],
          "name": "stdout"
        }
      ]
    },
    {
      "cell_type": "code",
      "metadata": {
        "id": "F-j-vysiwaMd",
        "colab_type": "code",
        "colab": {
          "base_uri": "https://localhost:8080/",
          "height": 111
        },
        "outputId": "818bb4e6-af77-45cc-88d1-d7bf340bf1cf"
      },
      "source": [
        "%pip install pygame"
      ],
      "execution_count": 10,
      "outputs": [
        {
          "output_type": "stream",
          "text": [
            "Collecting pygame\n",
            "\u001b[?25l  Downloading https://files.pythonhosted.org/packages/8e/24/ede6428359f913ed9cd1643dd5533aefeb5a2699cc95bea089de50ead586/pygame-1.9.6-cp36-cp36m-manylinux1_x86_64.whl (11.4MB)\n",
            "\u001b[K     |████████████████████████████████| 11.4MB 2.8MB/s \n",
            "\u001b[?25hInstalling collected packages: pygame\n",
            "Successfully installed pygame-1.9.6\n"
          ],
          "name": "stdout"
        }
      ]
    },
    {
      "cell_type": "code",
      "metadata": {
        "id": "GGMYTHT4OLy4",
        "colab_type": "code",
        "colab": {}
      },
      "source": [
        "import wrapped_flappy_bird as game\n",
        "import numpy as np\n",
        "import flappy_bird_utils\n",
        "import cv2\n",
        "import sys\n",
        "import random\n",
        "import pygame\n",
        "import pygame.surfarray as surfarray\n",
        "from pygame.locals import *\n",
        "from itertools import cycle\n",
        "import matplotlib.pyplot as plt\n",
        "import PIL.Image\n",
        "#from cStringIO import StringIO\n",
        "import IPython.display\n"
      ],
      "execution_count": 0,
      "outputs": []
    },
    {
      "cell_type": "code",
      "metadata": {
        "id": "epVQmcWzpGRU",
        "colab_type": "code",
        "outputId": "0ea7d559-0efe-4ad2-a12a-91e6ff5d064c",
        "colab": {
          "base_uri": "https://localhost:8080/",
          "height": 941
        }
      },
      "source": [
        "GAME = 'bird' # the name of the game being played for log files\n",
        "CONFIG = 'nothreshold'\n",
        "ACTIONS = 2 # number of valid actions\n",
        "GAMMA = 0.99 # decay rate of past observations\n",
        "OBSERVATION = 3200. # timesteps to observe before training\n",
        "EXPLORE = 3000000. # frames over which to anneal epsilon\n",
        "FINAL_EPSILON = 0.0001 # final value of epsilon\n",
        "INITIAL_EPSILON = 0.1 # starting value of epsilon\n",
        "REPLAY_MEMORY = 50000 # number of previous transitions to remember\n",
        "BATCH = 32 # size of minibatch\n",
        "FRAME_PER_ACTION = 1\n",
        "LEARNING_RATE = 1e-4\n",
        "\n",
        "FPS = 30\n",
        "SCREENWIDTH  = 288\n",
        "SCREENHEIGHT = 512\n",
        "\n",
        "pygame.init()\n",
        "FPSCLOCK = pygame.time.Clock()\n",
        "SCREEN = pygame.display.set_mode((SCREENWIDTH, SCREENHEIGHT))\n",
        "pygame.display.set_caption('Flappy Bird')\n",
        "\n",
        "IMAGES, SOUNDS, HITMASKS = flappy_bird_utils.load()\n",
        "PIPEGAPSIZE = 100 # gap between upper and lower part of pipe\n",
        "BASEY = SCREENHEIGHT * 0.79\n",
        "\n",
        "PLAYER_WIDTH = IMAGES['player'][0].get_width()\n",
        "PLAYER_HEIGHT = IMAGES['player'][0].get_height()\n",
        "PIPE_WIDTH = IMAGES['pipe'][0].get_width()\n",
        "PIPE_HEIGHT = IMAGES['pipe'][0].get_height()\n",
        "BACKGROUND_WIDTH = IMAGES['background'].get_width()\n",
        "\n",
        "PLAYER_INDEX_GEN = cycle([0, 1, 2, 1])\n",
        "\n",
        "img_rows , img_cols = 80, 80\n",
        "#Convert image into Black and white\n",
        "img_channels = 4 #We stack 4 frames\n",
        "\n",
        "game_state = game.GameState()\n",
        "do_nothing = np.zeros(ACTIONS)\n",
        "do_nothing[0] = 1\n",
        "game_state.frame_step(do_nothing)"
      ],
      "execution_count": 52,
      "outputs": [
        {
          "output_type": "execute_result",
          "data": {
            "text/plain": [
              "(array([[[0, 0, 0],\n",
              "         [0, 0, 0],\n",
              "         [0, 0, 0],\n",
              "         ...,\n",
              "         [0, 0, 0],\n",
              "         [0, 0, 0],\n",
              "         [0, 0, 0]],\n",
              " \n",
              "        [[0, 0, 0],\n",
              "         [0, 0, 0],\n",
              "         [0, 0, 0],\n",
              "         ...,\n",
              "         [0, 0, 0],\n",
              "         [0, 0, 0],\n",
              "         [0, 0, 0]],\n",
              " \n",
              "        [[0, 0, 0],\n",
              "         [0, 0, 0],\n",
              "         [0, 0, 0],\n",
              "         ...,\n",
              "         [0, 0, 0],\n",
              "         [0, 0, 0],\n",
              "         [0, 0, 0]],\n",
              " \n",
              "        ...,\n",
              " \n",
              "        [[0, 0, 0],\n",
              "         [0, 0, 0],\n",
              "         [0, 0, 0],\n",
              "         ...,\n",
              "         [0, 0, 0],\n",
              "         [0, 0, 0],\n",
              "         [0, 0, 0]],\n",
              " \n",
              "        [[0, 0, 0],\n",
              "         [0, 0, 0],\n",
              "         [0, 0, 0],\n",
              "         ...,\n",
              "         [0, 0, 0],\n",
              "         [0, 0, 0],\n",
              "         [0, 0, 0]],\n",
              " \n",
              "        [[0, 0, 0],\n",
              "         [0, 0, 0],\n",
              "         [0, 0, 0],\n",
              "         ...,\n",
              "         [0, 0, 0],\n",
              "         [0, 0, 0],\n",
              "         [0, 0, 0]]], dtype=uint8), 0.1, False)"
            ]
          },
          "metadata": {
            "tags": []
          },
          "execution_count": 52
        }
      ]
    },
    {
      "cell_type": "code",
      "metadata": {
        "id": "oFd4h0qxcNXw",
        "colab_type": "code",
        "colab": {}
      },
      "source": [
        "\n",
        "'''import numpy as np\n",
        "import sys\n",
        "import random\n",
        "import pygame\n",
        "import flappy_bird_utils\n",
        "import pygame.surfarray as surfarray\n",
        "from pygame.locals import *\n",
        "from itertools import cycle'''\n",
        "\n",
        "SCREENWIDTH  = 288\n",
        "SCREENHEIGHT = 512\n",
        "\n",
        "def Image_Generator(filepath):\n",
        "\n",
        "    file = open(filepath,\"r\")\n",
        "    running = True\n",
        "    count = 100\n",
        "    while running:\n",
        "        current = file.readline()\n",
        "        count -= 1\n",
        "        if current == \"\":\n",
        "            break;\n",
        "        if current[0] == \"-\":\n",
        "            continue\n",
        "        if count < 0:\n",
        "          break;\n",
        "        data_list = current.split(\" \")\n",
        "        data_list.pop()\n",
        "        \n",
        "        ''' if (len(data_list) < 16):\n",
        "            loop_times = 16 - len(data_list)\n",
        "            counter = 0\n",
        "            while counter < loop_times:\n",
        "                data_list.append(None)\n",
        "                counter += 1'''\n",
        "        #print(data_list)\n",
        "        #data_list = list(map(int, data_list))\n",
        "\n",
        "        CaseNo = int(float(data_list[0]))\n",
        "        game_state.playerx = int(float(data_list[1]) + SCREENWIDTH /2)\n",
        "        game_state.playery = int(float(data_list[2]) + SCREENWIDTH /2)\n",
        "        game_state.playerIndex = int(data_list[3])        \n",
        "        \n",
        "        game_state.upperPipes = []\n",
        "        game_state.lowerPipes = []\n",
        "        \n",
        "        for i in range(4,len(data_list),4):\n",
        "          \n",
        "            newPipe = game.getRandomPipe()\n",
        "            game_state.upperPipes.append(newPipe[0])\n",
        "            game_state.upperPipes[int((i-4)/4)]['x'] = int(float(data_list[i]) + SCREENWIDTH /2)\n",
        "            game_state.upperPipes[int((i-4)/4)]['y'] = int(float(data_list[i+1]) + SCREENWIDTH /2)\n",
        "\n",
        "            newPipe = game.getRandomPipe()     \n",
        "            game_state.lowerPipes.append(newPipe[0])\n",
        "            game_state.lowerPipes[int((i-4)/4)]['x'] = int(float(data_list[i+2]) + SCREENWIDTH /2)\n",
        "            game_state.lowerPipes[int((i-4)/4)]['y'] = int(float(data_list[i+3]) + SCREENWIDTH /2)\n",
        "        \n",
        "        # draw sprites\n",
        "        SCREEN.blit(IMAGES['background'], (0,0))\n",
        "\n",
        "        for uPipe, lPipe in zip(game_state.upperPipes, game_state.lowerPipes):\n",
        "            SCREEN.blit(IMAGES['pipe'][0], (uPipe['x'], uPipe['y']))\n",
        "            SCREEN.blit(IMAGES['pipe'][1], (lPipe['x'], lPipe['y']))\n",
        "\n",
        "        SCREEN.blit(IMAGES['base'], (game_state.basex, BASEY))\n",
        "        # print score so player overlaps the score\n",
        "        # showScore(self.score)\n",
        "        SCREEN.blit(IMAGES['player'][game_state.playerIndex],\n",
        "                    (game_state.playerx, game_state.playery))\n",
        "\n",
        "        image_data = pygame.surfarray.array3d(pygame.display.get_surface())\n",
        "        #IPython.display.display(PIL.Image.fromarray(image_data))\n",
        "        \n",
        "        #running = False\n",
        "    #print(type(image_data))\n",
        "    print(\"image_data\" ,image_data)\n",
        "    print(\"image_data.shape: \", image_data.shape)\n",
        "    IPython.display.display(PIL.Image.fromarray(image_data))\n",
        "    #plt.show()      \n",
        "                       \n",
        "    #print(\"bird_down: \", bird_down)      \n",
        "    file.close()"
      ],
      "execution_count": 0,
      "outputs": []
    },
    {
      "cell_type": "code",
      "metadata": {
        "id": "RoY9XL6ERYaG",
        "colab_type": "code",
        "outputId": "32d0bc8f-157b-47fd-d51b-f0652b1e02b1",
        "colab": {
          "base_uri": "https://localhost:8080/",
          "height": 1000
        }
      },
      "source": [
        "file= \"data.txt\" #file path or a file in the current folder\n",
        "Image_Generator(file)"
      ],
      "execution_count": 82,
      "outputs": [
        {
          "output_type": "stream",
          "text": [
            "image_data [[[0 0 0]\n",
            "  [0 0 0]\n",
            "  [0 0 0]\n",
            "  ...\n",
            "  [0 0 0]\n",
            "  [0 0 0]\n",
            "  [0 0 0]]\n",
            "\n",
            " [[0 0 0]\n",
            "  [0 0 0]\n",
            "  [0 0 0]\n",
            "  ...\n",
            "  [0 0 0]\n",
            "  [0 0 0]\n",
            "  [0 0 0]]\n",
            "\n",
            " [[0 0 0]\n",
            "  [0 0 0]\n",
            "  [0 0 0]\n",
            "  ...\n",
            "  [0 0 0]\n",
            "  [0 0 0]\n",
            "  [0 0 0]]\n",
            "\n",
            " ...\n",
            "\n",
            " [[0 0 0]\n",
            "  [0 0 0]\n",
            "  [0 0 0]\n",
            "  ...\n",
            "  [0 0 0]\n",
            "  [0 0 0]\n",
            "  [0 0 0]]\n",
            "\n",
            " [[0 0 0]\n",
            "  [0 0 0]\n",
            "  [0 0 0]\n",
            "  ...\n",
            "  [0 0 0]\n",
            "  [0 0 0]\n",
            "  [0 0 0]]\n",
            "\n",
            " [[0 0 0]\n",
            "  [0 0 0]\n",
            "  [0 0 0]\n",
            "  ...\n",
            "  [0 0 0]\n",
            "  [0 0 0]\n",
            "  [0 0 0]]]\n",
            "image_data.shape:  (288, 512, 3)\n"
          ],
          "name": "stdout"
        },
        {
          "output_type": "display_data",
          "data": {
            "image/png": "[encoded data removed]",
            "text/plain": [
              "<PIL.Image.Image image mode=RGB size=512x288 at 0x7F2F7A1C0080>"
            ]
          },
          "metadata": {
            "tags": []
          }
        }
      ]
    }
  ]
}